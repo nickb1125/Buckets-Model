{
 "cells": [
  {
   "cell_type": "code",
   "execution_count": 43,
   "metadata": {},
   "outputs": [],
   "source": [
    "import nba_api\n",
    "import pandas as pd\n",
    "import sklearn\n",
    "import os\n",
    "import numpy as np\n",
    "import requests\n",
    "import time\n",
    "import random\n",
    "from sklearn.model_selection import KFold\n",
    "import datetime as dt\n",
    "import seaborn as sns\n",
    "from nba_api.stats.static import players\n",
    "import matplotlib.pyplot as plt\n",
    "import math\n",
    "from datetime import datetime, timedelta\n",
    "from nba_api.stats.library.parameters import SeasonAllNullable\n",
    "from nba_api.stats.library.parameters import SeasonAll\n",
    "from nba_api.stats.library.parameters import SeasonTypeNullable\n",
    "pd.set_option('display.max_columns', None)\n",
    "pd.set_option('display.max_rows', 50)\n",
    "from tqdm import tqdm\n",
    "from scipy.stats import norm\n",
    "from nba_api.stats import endpoints\n",
    "from nba_api.stats.static import teams\n",
    "from sklearn.ensemble import RandomForestClassifier\n",
    "import ipynb\n",
    "import importlib\n",
    "\n",
    "\n",
    "## Also read in cleaned NBA data\n",
    "NBAgamesC = pd.read_csv('/Users/nickbachelder/Buckets Model/NBAgamesC', index_col=0)\n",
    "NBAgamesC['GAME_DATE_H'] = pd.to_datetime(NBAgamesC['GAME_DATE_H'])\n",
    "nba_team = pd.read_csv('/Users/nickbachelder/Buckets Model/nba_team', index_col=0)\n",
    "NBAgames = pd.read_csv('/Users/nickbachelder/Buckets Model/NBAgames', index_col=0)\n",
    "NBAgames['GAME_DATE'] = pd.to_datetime(NBAgames['GAME_DATE'])\n",
    "NBAgamesC['GAME_ID_H'] = NBAgamesC['GAME_ID_H'].astype(int)"
   ]
  },
  {
   "cell_type": "code",
   "execution_count": 45,
   "metadata": {},
   "outputs": [],
   "source": [
    "## Get Starting ELOs from 2015 from fivethirtyeight. We will use this as starting point for elo tracking.\n",
    "\n",
    "url = \"https://raw.githubusercontent.com/fivethirtyeight/data/master/nba-elo/nbaallelo.csv\"\n",
    "five38rate = pd.read_csv(url, index_col=0)\n",
    "\n",
    "\n",
    "five38rate= five38rate.replace({'NOH': 'NOP',\n",
    "                               'NOK': 'NOP',\n",
    "                               'NOH': 'NOP',\n",
    "                               'NJN': 'BKN',\n",
    "                               'SEA': 'OKC',\n",
    "                               'VAN': 'MEM',\n",
    "                               'KCK': 'SAC',\n",
    "                               'SDC': 'LAC',\n",
    "                               'WSB': 'WAS',\n",
    "                               'PHO': 'PHX'}, regex=True)\n",
    "\n",
    "\n",
    "\n",
    "\n",
    "games15 = five38rate[five38rate['year_id'] == 2000].sort_values('date_game')\n"
   ]
  },
  {
   "cell_type": "code",
   "execution_count": 46,
   "metadata": {},
   "outputs": [],
   "source": [
    "## define function to get starting elos\n",
    "\n",
    "def get_ELO_15(team_abb):\n",
    "    games15team = games15[games15['team_id'] == team_abb]\n",
    "    if games15team.empty:\n",
    "        teamlltime = five38rate[five38rate['team_id'] == team_abb]\n",
    "        rating = teamlltime.iloc[-1,:]['elo_n']\n",
    "    else:\n",
    "        rating = games15team.iloc[-1,:]['elo_n']\n",
    "    return(rating)"
   ]
  },
  {
   "cell_type": "code",
   "execution_count": 47,
   "metadata": {},
   "outputs": [],
   "source": [
    "## define function to track elo over time and create ongoing dataframe\n",
    "\n",
    "## ELO Rating # FIX INTER_SEASON CHANGES\n",
    "def get_ELO_track():\n",
    "    AllSeasonGames = pd.DataFrame(NBAgamesC).iloc[::-1].reset_index(drop = 1) ## In correct order\n",
    "    CurrSeason = AllSeasonGames.iloc[0,]['SEASON_ID_H']\n",
    "    \n",
    "    ELO_track = pd.DataFrame() ## Creating starting ELOs from the fivethirtyeight 1982 data\n",
    "    for team in nba_team['abbreviation']:\n",
    "        ELO_start = {'Team': team,\n",
    "                     'ELO': get_ELO_15(team),\n",
    "                     'Date': AllSeasonGames.iloc[0,]['GAME_DATE_H'],\n",
    "                     'Season': CurrSeason}\n",
    "        ELO_track = ELO_track.append(pd.DataFrame(ELO_start, index=[0]))\n",
    "    date = AllSeasonGames.iloc[0,]['GAME_DATE_H']\n",
    "    end_date = AllSeasonGames.iloc[-1,]['GAME_DATE_H']\n",
    "    delta = dt.timedelta(days=1)\n",
    "    seasonindex = 1\n",
    "    ELO_track = ELO_track.reset_index(drop = 1)\n",
    "    \n",
    "    while date <= end_date:\n",
    "        ThisDayGames = pd.DataFrame(AllSeasonGames[AllSeasonGames['GAME_DATE_H'] == date]).reset_index(drop = 1)\n",
    "        if ThisDayGames.empty:\n",
    "            date += delta\n",
    "            continue\n",
    "        if ThisDayGames[['SEASON_ID_H']].iloc[0,][0] != CurrSeason: \n",
    "            for team in np.array(nba_team['abbreviation']):\n",
    "                old_ELO = ELO_track[ELO_track['Team'] == team][['ELO']].iloc[-1,:]\n",
    "                new_ELO = (.75 * old_ELO) + (.25 * 1505)\n",
    "                newELOadd = {'Team': team,\n",
    "                             'ELO': new_ELO,\n",
    "                             'Date': date - delta,\n",
    "                             'Season': ThisDayGames[['SEASON_ID_H']].iloc[0,][0]\n",
    "                             }\n",
    "            CurrSeason = ThisDayGames[['SEASON_ID_H']].iloc[0,][0]\n",
    "            print('New Season', 'Season', seasonindex, 'Complete', '. Start', CurrSeason)\n",
    "            seasonindex+=1\n",
    "        for index in range(len(ThisDayGames)):\n",
    "            game = ThisDayGames.iloc[index,:]\n",
    "            gamedate = game[['GAME_DATE_H']][0]\n",
    "            gamescore_diff = abs(int(game['PTS_H'])-int(game['PTS_A']))\n",
    "            \n",
    "            team1_abb = game[['MATCHUP_H']][0][0:3]\n",
    "            team2_abb = game[['MATCHUP_H']][0][-3:]\n",
    "            team1 = nba_team.loc[nba_team['abbreviation'] == team1_abb]['full_name'].values[0]\n",
    "            team2 = nba_team.loc[nba_team['abbreviation'] == team2_abb]['full_name'].values[0]\n",
    "            team1id = nba_team.loc[nba_team['abbreviation'] == team1_abb]['id'].values[0]\n",
    "            team2id = nba_team.loc[nba_team['abbreviation'] == team2_abb]['id'].values[0]\n",
    "            \n",
    "            \n",
    "            t1W = game['WL_H'] \n",
    "            \n",
    "            t1_ELO = ELO_track[ELO_track['Team'] == team1_abb].iloc[-1,:][['ELO']]\n",
    "            t2_ELO = ELO_track[ELO_track['Team'] == team2_abb].iloc[-1,:][['ELO']]\n",
    "    \n",
    "            \n",
    "            ## ELO FORMULA\n",
    "            if game['WL_H'] == 1:\n",
    "                S_teamT1 = 1\n",
    "                S_teamT2 = 0\n",
    "            else:\n",
    "                S_teamT1 = 0\n",
    "                S_teamT2 = 1\n",
    "            \n",
    "            if S_teamT1 == 1:\n",
    "                ELO_diff = (t1_ELO+100) - t2_ELO ## 100 extra points for home team\n",
    "            else:\n",
    "                ELO_diff = t2_ELO - (t1_ELO+100)\n",
    "                \n",
    "            E_teamT1 = 1/(1 + 10**((t2_ELO-(t1_ELO+100))/400)) ## 100 extra points for home team\n",
    "            E_teamT2 = 1/(1 + 10**(((t1_ELO+100)-t2_ELO)/400))\n",
    "    \n",
    "            kt1 = 20*( (gamescore_diff+3)**0.8 / (7.5 + 0.006*ELO_diff))\n",
    "            kt2 = 20*( (gamescore_diff+3)**0.8 / (7.5 + 0.006*ELO_diff))\n",
    "            # Compute new ELOs\n",
    "            t1_ELO_new = kt1*(S_teamT1 - E_teamT1) + t1_ELO\n",
    "            t2_ELO_new = kt2*(S_teamT2 - E_teamT2) + t2_ELO\n",
    "            \n",
    "            ELOt1_append = {'Team': team1_abb,\n",
    "             'ELO': t1_ELO_new,\n",
    "             'Date': gamedate,\n",
    "                           'Season': CurrSeason}\n",
    "            ELOt2_append = {'Team': team2_abb,\n",
    "             'ELO': t2_ELO_new,\n",
    "             'Date': gamedate,\n",
    "                           'Season': CurrSeason}\n",
    "            addtoELO = pd.concat([pd.DataFrame(ELOt1_append), pd.DataFrame(ELOt2_append)], axis = 0)\n",
    "            ELO_track = ELO_track.append(addtoELO).reset_index(drop = 1)\n",
    "        date += delta\n",
    "    return(ELO_track)"
   ]
  },
  {
   "cell_type": "code",
   "execution_count": 48,
   "metadata": {},
   "outputs": [
    {
     "name": "stdout",
     "output_type": "stream",
     "text": [
      "New Season Season 1 Complete . Start 2001\n",
      "New Season Season 2 Complete . Start 2002\n",
      "New Season Season 3 Complete . Start 2003\n",
      "New Season Season 4 Complete . Start 2004\n",
      "New Season Season 5 Complete . Start 2005\n",
      "New Season Season 6 Complete . Start 2006\n",
      "New Season Season 7 Complete . Start 2007\n",
      "New Season Season 8 Complete . Start 2008\n",
      "New Season Season 9 Complete . Start 2009\n",
      "New Season Season 10 Complete . Start 2010\n",
      "New Season Season 11 Complete . Start 2011\n",
      "New Season Season 12 Complete . Start 2012\n",
      "New Season Season 13 Complete . Start 2013\n",
      "New Season Season 14 Complete . Start 2014\n",
      "New Season Season 15 Complete . Start 2015\n",
      "New Season Season 16 Complete . Start 2016\n",
      "New Season Season 17 Complete . Start 2017\n",
      "New Season Season 18 Complete . Start 2018\n",
      "New Season Season 19 Complete . Start 2019\n",
      "New Season Season 20 Complete . Start 2020\n"
     ]
    }
   ],
   "source": [
    "# Track ELOS\n",
    "\n",
    "ELO_track = get_ELO_track() "
   ]
  },
  {
   "cell_type": "code",
   "execution_count": 54,
   "metadata": {},
   "outputs": [
    {
     "data": {
      "image/png": "[encoded data removed]",
      "text/plain": [
       "<Figure size 432x288 with 1 Axes>"
      ]
     },
     "metadata": {
      "needs_background": "light"
     },
     "output_type": "display_data"
    }
   ],
   "source": [
    "### Lets look at the tracked ELO for three teams\n",
    "\n",
    "Track_GSW = ELO_track[(ELO_track['Team'] == 'LAL')]\n",
    "Track_BOS = ELO_track[(ELO_track['Team'] == 'PHX')]\n",
    "Track_CHI = ELO_track[(ELO_track['Team'] == 'BKN')]\n",
    "\n",
    "# multiple line plots\n",
    "plt.plot( 'Date', 'ELO', data= Track_CHI, color='skyblue', label = 'BKN')\n",
    "plt.plot( 'Date', 'ELO', data= Track_BOS, color='blue', label = 'PHX')\n",
    "plt.plot( 'Date', 'ELO', data= Track_GSW, color='purple', label = 'LAL')\n",
    "\n",
    "\n",
    "plt.legend()\n",
    "# show graph\n",
    "plt.show()"
   ]
  },
  {
   "cell_type": "code",
   "execution_count": 50,
   "metadata": {},
   "outputs": [
    {
     "data": {
      "text/plain": [
       "1581"
      ]
     },
     "execution_count": 50,
     "metadata": {},
     "output_type": "execute_result"
    }
   ],
   "source": [
    "# Define function that gets a teams ELO on a certain date after 2015\n",
    "\n",
    "def get_pre_elo(team_abb, gamedate, NBAgamesC, ELO_track):\n",
    "    import warnings\n",
    "    warnings.simplefilter(\"ignore\", UserWarning)\n",
    "    \n",
    "    team = NBAgamesC[NBAgamesC['MATCHUP_H'].str.contains(team_abb) | NBAgamesC['MATCHUP_A'].str.contains(team_abb)]\n",
    "    teambeforedate = team[team['GAME_DATE_H'] < gamedate]\n",
    "    priorgamedate = pd.DataFrame(teambeforedate['GAME_DATE_H']).iloc[0,:][0]\n",
    "    pre_elo = ELO_track[ELO_track['Date'] ==  priorgamedate][ELO_track['Team'] ==  team_abb]['ELO']\n",
    "    return(int(pre_elo))\n",
    "\n",
    "# Check random ELO\n",
    "\n",
    "get_pre_elo('LAL', '2021-04-01', NBAgamesC = NBAgamesC, ELO_track = ELO_track)"
   ]
  },
  {
   "cell_type": "code",
   "execution_count": 51,
   "metadata": {},
   "outputs": [
    {
     "data": {
      "text/html": [
       "<div>\n",
       "<style scoped>\n",
       "    .dataframe tbody tr th:only-of-type {\n",
       "        vertical-align: middle;\n",
       "    }\n",
       "\n",
       "    .dataframe tbody tr th {\n",
       "        vertical-align: top;\n",
       "    }\n",
       "\n",
       "    .dataframe thead th {\n",
       "        text-align: right;\n",
       "    }\n",
       "</style>\n",
       "<table border=\"1\" class=\"dataframe\">\n",
       "  <thead>\n",
       "    <tr style=\"text-align: right;\">\n",
       "      <th></th>\n",
       "      <th>Team</th>\n",
       "      <th>ELO</th>\n",
       "      <th>Date</th>\n",
       "      <th>Season</th>\n",
       "    </tr>\n",
       "  </thead>\n",
       "  <tbody>\n",
       "    <tr>\n",
       "      <th>0</th>\n",
       "      <td>ATL</td>\n",
       "      <td>1325.69</td>\n",
       "      <td>2000-10-31</td>\n",
       "      <td>2000</td>\n",
       "    </tr>\n",
       "    <tr>\n",
       "      <th>1</th>\n",
       "      <td>BOS</td>\n",
       "      <td>1431.22</td>\n",
       "      <td>2000-10-31</td>\n",
       "      <td>2000</td>\n",
       "    </tr>\n",
       "    <tr>\n",
       "      <th>2</th>\n",
       "      <td>CLE</td>\n",
       "      <td>1413.41</td>\n",
       "      <td>2000-10-31</td>\n",
       "      <td>2000</td>\n",
       "    </tr>\n",
       "    <tr>\n",
       "      <th>3</th>\n",
       "      <td>NOP</td>\n",
       "      <td>1526.57</td>\n",
       "      <td>2000-10-31</td>\n",
       "      <td>2000</td>\n",
       "    </tr>\n",
       "    <tr>\n",
       "      <th>4</th>\n",
       "      <td>CHI</td>\n",
       "      <td>1271.95</td>\n",
       "      <td>2000-10-31</td>\n",
       "      <td>2000</td>\n",
       "    </tr>\n",
       "    <tr>\n",
       "      <th>...</th>\n",
       "      <td>...</td>\n",
       "      <td>...</td>\n",
       "      <td>...</td>\n",
       "      <td>...</td>\n",
       "    </tr>\n",
       "    <tr>\n",
       "      <th>55503</th>\n",
       "      <td>PHX</td>\n",
       "      <td>1709.46</td>\n",
       "      <td>2021-07-14</td>\n",
       "      <td>2020</td>\n",
       "    </tr>\n",
       "    <tr>\n",
       "      <th>55504</th>\n",
       "      <td>PHX</td>\n",
       "      <td>1700.14</td>\n",
       "      <td>2021-07-17</td>\n",
       "      <td>2020</td>\n",
       "    </tr>\n",
       "    <tr>\n",
       "      <th>55505</th>\n",
       "      <td>MIL</td>\n",
       "      <td>1698.8</td>\n",
       "      <td>2021-07-17</td>\n",
       "      <td>2020</td>\n",
       "    </tr>\n",
       "    <tr>\n",
       "      <th>55506</th>\n",
       "      <td>MIL</td>\n",
       "      <td>1704.44</td>\n",
       "      <td>2021-07-20</td>\n",
       "      <td>2020</td>\n",
       "    </tr>\n",
       "    <tr>\n",
       "      <th>55507</th>\n",
       "      <td>PHX</td>\n",
       "      <td>1694.5</td>\n",
       "      <td>2021-07-20</td>\n",
       "      <td>2020</td>\n",
       "    </tr>\n",
       "  </tbody>\n",
       "</table>\n",
       "<p>55508 rows × 4 columns</p>\n",
       "</div>"
      ],
      "text/plain": [
       "      Team      ELO       Date  Season\n",
       "0      ATL  1325.69 2000-10-31    2000\n",
       "1      BOS  1431.22 2000-10-31    2000\n",
       "2      CLE  1413.41 2000-10-31    2000\n",
       "3      NOP  1526.57 2000-10-31    2000\n",
       "4      CHI  1271.95 2000-10-31    2000\n",
       "...    ...      ...        ...     ...\n",
       "55503  PHX  1709.46 2021-07-14    2020\n",
       "55504  PHX  1700.14 2021-07-17    2020\n",
       "55505  MIL   1698.8 2021-07-17    2020\n",
       "55506  MIL  1704.44 2021-07-20    2020\n",
       "55507  PHX   1694.5 2021-07-20    2020\n",
       "\n",
       "[55508 rows x 4 columns]"
      ]
     },
     "execution_count": 51,
     "metadata": {},
     "output_type": "execute_result"
    }
   ],
   "source": [
    "ELO_track"
   ]
  },
  {
   "cell_type": "code",
   "execution_count": 52,
   "metadata": {},
   "outputs": [],
   "source": [
    "pd.DataFrame.to_csv(ELO_track, '/Users/nickbachelder/Buckets Model/ELO_track')"
   ]
  },
  {
   "cell_type": "code",
   "execution_count": 53,
   "metadata": {},
   "outputs": [
    {
     "data": {
      "text/plain": [
       "1604"
      ]
     },
     "execution_count": 53,
     "metadata": {},
     "output_type": "execute_result"
    }
   ],
   "source": [
    "ELO_TRACK = pd.read_csv('/Users/nickbachelder/Buckets Model/ELO_track', index_col=0)\n",
    "ELO_TRACK['Date'] = pd.to_datetime(ELO_TRACK['Date'])\n",
    "\n",
    "get_pre_elo('MIL', '2021-09-08', NBAgamesC = NBAgamesC, ELO_track = ELO_TRACK)"
   ]
  },
  {
   "cell_type": "code",
   "execution_count": 57,
   "metadata": {},
   "outputs": [
    {
     "data": {
      "text/plain": [
       "1239"
      ]
     },
     "execution_count": 57,
     "metadata": {},
     "output_type": "execute_result"
    }
   ],
   "source": [
    "get_pre_elo('OKC', '2021-09-08', NBAgamesC = NBAgamesC, ELO_track = ELO_TRACK)"
   ]
  },
  {
   "cell_type": "code",
   "execution_count": null,
   "metadata": {},
   "outputs": [],
   "source": []
  }
 ],
 "metadata": {
  "kernelspec": {
   "display_name": "Python 3",
   "language": "python",
   "name": "python3"
  },
  "language_info": {
   "codemirror_mode": {
    "name": "ipython",
    "version": 3
   },
   "file_extension": ".py",
   "mimetype": "text/x-python",
   "name": "python",
   "nbconvert_exporter": "python",
   "pygments_lexer": "ipython3",
   "version": "3.8.5"
  }
 },
 "nbformat": 4,
 "nbformat_minor": 4
}
